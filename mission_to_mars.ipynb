{
 "cells": [
  {
   "cell_type": "code",
   "execution_count": 1,
   "metadata": {},
   "outputs": [],
   "source": [
    "#Dependencies\n",
    "from splinter import Browser\n",
    "from bs4 import BeautifulSoup\n",
    "import pandas as pd\n",
    "import datetime as dt\n",
    "import tweepy\n",
    "import time\n",
    "from selenium import webdriver"
   ]
  },
  {
   "cell_type": "code",
   "execution_count": 3,
   "metadata": {},
   "outputs": [],
   "source": [
    "#Mars News Url - go to NASA website and scrape\n",
    "url = \"https://mars.nasa.gov/news/\"\n",
    "\n",
    "\n",
    "#Start driver\n",
    "browser = Browser(\"chrome\", executable_path=\"chromedriver\", headless=True)\n",
    "browser.visit(url)\n",
    "\n",
    "# parse through text html\n",
    "html = browser.html\n",
    "soup = BeautifulSoup(html, 'html.parser')\n",
    "\n",
    "# collect news title and paragraph text\n",
    "news_title = soup.find(\"div\", class_=\"bottom_gradient\").text\n",
    "news_p = soup.find(\"div\", class_=\"rollover_description_inner\").text "
   ]
  },
  {
   "cell_type": "code",
   "execution_count": 4,
   "metadata": {},
   "outputs": [
    {
     "data": {
      "text/plain": [
       "'Opportunity Emerges in a Dusty Picture'"
      ]
     },
     "execution_count": 4,
     "metadata": {},
     "output_type": "execute_result"
    }
   ],
   "source": [
    "news_title"
   ]
  },
  {
   "cell_type": "code",
   "execution_count": 5,
   "metadata": {},
   "outputs": [
    {
     "data": {
      "text/plain": [
       "\"NASA still hasn't heard from the Opportunity rover, but at least the agency can see it again.\""
      ]
     },
     "execution_count": 5,
     "metadata": {},
     "output_type": "execute_result"
    }
   ],
   "source": [
    "news_p"
   ]
  },
  {
   "cell_type": "code",
   "execution_count": 6,
   "metadata": {},
   "outputs": [],
   "source": [
    "# Stop webdriver and return data\n",
    "#browser.quit()"
   ]
  },
  {
   "cell_type": "code",
   "execution_count": 13,
   "metadata": {},
   "outputs": [],
   "source": [
    "## JPL Mars Space Images\n",
    "## visit the url for JPL Featured Space Image\n",
    "url = \"https://www.jpl.nasa.gov/spaceimages/?search=&category=Mars\"\n",
    "browser.visit(url)\n",
    "\n",
    "# Use splinter browser to search to find image link\n",
    "time.sleep(3)    \n",
    "browser.click_link_by_partial_text('FULL IMAGE')\n",
    "time.sleep(3)\n",
    "browser.click_link_by_partial_text('more info')\n",
    "time.sleep(3)    \n",
    "\n",
    "# Parser\n",
    "html = browser.html\n",
    "soup = BeautifulSoup(html, 'html.parser')\n",
    "    \n",
    "# Find path and retrieve featured_image\n",
    "results = soup.find(\"article\")\n",
    "extension = results.find(\"figure\", \"lede\").a['href']\n",
    "link = \"https://www.jpl.nasa.gov\"\n",
    "image_path = soup.find(\"figure\", class_=\"lede\").a['href']\n",
    "featured_image_url = \"https:www.jpl.nasa.gov/\" + image_path"
   ]
  },
  {
   "cell_type": "code",
   "execution_count": 19,
   "metadata": {},
   "outputs": [],
   "source": [
    "## Mars Weather\n",
    "    \n",
    "mars_weather_url = \"https://twitter.com/marswxreport?lang=en\"\n",
    "browser.visit(mars_weather_url)\n",
    "weather_html = browser.html\n",
    "    \n",
    "##Retrieve the latest Mars Weather tweet\n",
    "    \n",
    "soup = BeautifulSoup(weather_html, 'html.parser')\n",
    "mars_weather = soup.find(\"p\", class_= \"TweetTextSize TweetTextSize--normal js-tweet-text tweet-text\")"
   ]
  },
  {
   "cell_type": "code",
   "execution_count": 21,
   "metadata": {},
   "outputs": [],
   "source": [
    "## Mars Facts\n",
    "    \n",
    "## mars facts url and splinter browser\n",
    "facts_url = \"https://space-facts.com/mars/\"\n",
    "browser.visit(facts_url)\n",
    "    \n",
    "    \n",
    "##  parse through text html\n",
    "facts_url = browser.html\n",
    "soup = BeautifulSoup(facts_url, 'html.parser')\n",
    "    \n",
    "## Retrieve table\n",
    "table_data = soup.find(\"table\", class_=\"tablepress tablepress-id-mars\")\n",
    "    \n",
    "    \n",
    "## Find table \n",
    "table_data = soup.find(\"table\", class_=\"tablepress tablepress-id-mars\")\n",
    "    \n",
    "    \n",
    "## Find all table row\n",
    "table_all = table_data.find_all(\"tr\")\n",
    "    \n",
    "    \n",
    "## Array list to hold td elements which alternate between label and value\n",
    "labels = []\n",
    "values = []\n",
    "    \n",
    "## Append the first td element to labels and the second to values\n",
    "for tr in table_all:\n",
    "    td_elements = tr.find_all(\"td\")\n",
    "    labels.append(td_elements[0].text)\n",
    "    values.append(td_elements[1].text)\n",
    "        \n",
    "## Create a data frame\n",
    "mars_facts_df = pd.DataFrame({\n",
    "     \"Label\": labels,\n",
    "     \"Values\": values\n",
    "     })\n",
    "    \n",
    "## Html code for DataFrame\n",
    "fact_table = mars_facts_df.to_html(header = False, index = False)\n",
    "   "
   ]
  },
  {
   "cell_type": "code",
   "execution_count": 22,
   "metadata": {},
   "outputs": [
    {
     "data": {
      "text/plain": [
       "'<table border=\"1\" class=\"dataframe\">\\n  <tbody>\\n    <tr>\\n      <td>Equatorial Diameter:</td>\\n      <td>6,792 km\\\\n</td>\\n    </tr>\\n    <tr>\\n      <td>Polar Diameter:</td>\\n      <td>6,752 km\\\\n</td>\\n    </tr>\\n    <tr>\\n      <td>Mass:</td>\\n      <td>6.42 x 10^23 kg (10.7% Earth)</td>\\n    </tr>\\n    <tr>\\n      <td>Moons:</td>\\n      <td>2 (Phobos &amp; Deimos)</td>\\n    </tr>\\n    <tr>\\n      <td>Orbit Distance:</td>\\n      <td>227,943,824 km (1.52 AU)</td>\\n    </tr>\\n    <tr>\\n      <td>Orbit Period:</td>\\n      <td>687 days (1.9 years)\\\\n</td>\\n    </tr>\\n    <tr>\\n      <td>Surface Temperature:</td>\\n      <td>-153 to 20 °C</td>\\n    </tr>\\n    <tr>\\n      <td>First Record:</td>\\n      <td>2nd millennium BC</td>\\n    </tr>\\n    <tr>\\n      <td>Recorded By:</td>\\n      <td>Egyptian astronomers</td>\\n    </tr>\\n  </tbody>\\n</table>'"
      ]
     },
     "execution_count": 22,
     "metadata": {},
     "output_type": "execute_result"
    }
   ],
   "source": [
    "fact_table"
   ]
  },
  {
   "cell_type": "code",
   "execution_count": 34,
   "metadata": {},
   "outputs": [],
   "source": [
    "## Hemisphere Images\n",
    "    \n",
    "hemispheres_image_url = \"https://astrogeology.usgs.gov/search/results?q=hemisphere+enhanced&k1=target&v1=Mars\"\n",
    "    \n",
    "browser.visit(hemispheres_image_url)\n",
    "    \n",
    "html = browser.html\n",
    "    \n",
    "soup = BeautifulSoup(html, \"html.parser\")\n",
    "\n",
    "\n",
    "## Setup list to storing dictionaries\n",
    "Mars_hemispheres = []\n",
    "\n",
    "\n",
    "## Retrieve class for storing Hemisphere picture\n",
    "returns = soup.find(\"div\", class_ = \"result-list\")\n",
    "hemispheres = returns.find_all(\"div\", class_=\"item\")\n",
    "    \n",
    "## Setup list to storing dictionaries\n",
    "hemisphere_image_urls = []\n",
    "\n",
    "## Retrieve title and link from main page    \n",
    "for hemisphere in hemispheres:\n",
    "    \n",
    "    title = hemisphere.find(\"h3\").text\n",
    "    title = title.replace(\"Enhanced\", \"\")\n",
    "    end_link = hemisphere.find(\"a\")[\"href\"]\n",
    "    link = \"https://astrogeology.usgs.gov/\" + end_link\n",
    "    browser.visit(link) \n",
    "\n",
    "\n",
    "## Retrieve image links\n",
    "    html = browser.html\n",
    "    soup = BeautifulSoup(html, \"html.parser\")\n",
    "    downloads = soup.find(\"div\", class_=\"downloads\")\n",
    "    image_url = downloads.find(\"a\")[\"href\"]\n",
    "    Mars_hemispheres.append({\"title\": title, \"img_url\": image_url})\n",
    "\n",
    "\n",
    "        "
   ]
  },
  {
   "cell_type": "code",
   "execution_count": 35,
   "metadata": {},
   "outputs": [
    {
     "data": {
      "text/plain": [
       "[{'title': 'Cerberus Hemisphere ',\n",
       "  'img_url': 'http://astropedia.astrogeology.usgs.gov/download/Mars/Viking/cerberus_enhanced.tif/full.jpg'},\n",
       " {'title': 'Schiaparelli Hemisphere ',\n",
       "  'img_url': 'http://astropedia.astrogeology.usgs.gov/download/Mars/Viking/schiaparelli_enhanced.tif/full.jpg'},\n",
       " {'title': 'Syrtis Major Hemisphere ',\n",
       "  'img_url': 'http://astropedia.astrogeology.usgs.gov/download/Mars/Viking/syrtis_major_enhanced.tif/full.jpg'},\n",
       " {'title': 'Valles Marineris Hemisphere ',\n",
       "  'img_url': 'http://astropedia.astrogeology.usgs.gov/download/Mars/Viking/valles_marineris_enhanced.tif/full.jpg'}]"
      ]
     },
     "execution_count": 35,
     "metadata": {},
     "output_type": "execute_result"
    }
   ],
   "source": [
    "## Create image dictionary for each image and title\n",
    "Mars_hemispheres"
   ]
  },
  {
   "cell_type": "code",
   "execution_count": null,
   "metadata": {},
   "outputs": [],
   "source": []
  }
 ],
 "metadata": {
  "kernelspec": {
   "display_name": "Python 3",
   "language": "python",
   "name": "python3"
  },
  "language_info": {
   "codemirror_mode": {
    "name": "ipython",
    "version": 3
   },
   "file_extension": ".py",
   "mimetype": "text/x-python",
   "name": "python",
   "nbconvert_exporter": "python",
   "pygments_lexer": "ipython3",
   "version": "3.6.5"
  }
 },
 "nbformat": 4,
 "nbformat_minor": 2
}
